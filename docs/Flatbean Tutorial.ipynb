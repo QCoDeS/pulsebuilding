{
 "cells": [
  {
   "cell_type": "markdown",
   "metadata": {},
   "source": [
    "# Pulsebuilding Tutorial Flatbean Version\n",
    "Yet another pulse building library ;-).\n",
    "\n",
    "This new version of broadbean is a major rebuild, with the main difference that one does not have to define all values directly when building the sequence but can simply provide a placeholder string, a *symbol*, and specify the a list of symbols when the sequence is rendered, or *forged* as it is called here. Furthermore one can also define dependencies of those symbols to create a template with the symbols as the relevant input parameters.\n",
    "\n",
    "The main structure of a sequence has changed only slightly: A sequence is made up of a list of elements. Each element contains a waveform for each channel. These waveforms are called segments here and can be concatenated via so called group segments. The waveform of a segment is defined by an *atom* the smallest building block of a sequence. An atom simply is a pyhton function that takes time stamps as an t axis as in input plus other parameters to return a numpy array representing the wave form  (i.e. return np.sin(a*t+b)).\n",
    "\n",
    "\n",
    "This document is a short intro that provides a tour of the central features."
   ]
  },
  {
   "cell_type": "markdown",
   "metadata": {},
   "source": [
    "## System Setup\n",
    "The notebook can either be run with the AWG5014 or standalone such that the output is produced as plots.\n",
    "We use the `StationConfigurator` to generate an instance of the AWG5014. However all is compatible with other AWGs. Broadbean produces a so called *forged_sequence* as an output, which is a nested list/dictionary representing the complete waveform. So far only the aformentioned AWG supports this format, but others are soon to follow\n",
    "\n",
    "In the next cell we define the instrument instance and create a virtual instrument so that this notebook can also be used without an AWG at hand. Furthermore we define a function to send and plot the forged sequence.\n",
    "\n",
    "**you need to have all packages from test_requirements.txt installed**\n",
    "\n",
    "**For uploading the forged sequences to the AWG5014 you need PR1167**\n",
    "\n",
    "in principle the operation is also possible with other tektronics awgs, but we changed the format of the forged sequence slightly (List instead of Dictionary). These changes will shortly be incorporated into the drivers."
   ]
  },
  {
   "cell_type": "code",
   "execution_count": 26,
   "metadata": {},
   "outputs": [
    {
     "name": "stdout",
     "output_type": "stream",
     "text": [
      "Connected to: QCoDeS AWG5014C (serial:1000, firmware:0.1) in 0.01s\n"
     ]
    }
   ],
   "source": [
    "# change this if you want to use the real awg\n",
    "real_instrument_present = False\n",
    "\n",
    "if real_instrument_present:\n",
    "    from qdev_wrappers.station_configurator import StationConfigurator\n",
    "    sc = StationConfigurator()\n",
    "    awg = sc.load_instrument('AWG5014')\n",
    "else:\n",
    "    from qcodes.instrument_drivers.tektronix.AWG5014 import Tektronix_AWG5014\n",
    "    from qcodes import Instrument\n",
    "    from contextlib import suppress\n",
    "    import qcodes.instrument.sims as sims\n",
    "    visalib = sims.__file__.replace('__init__.py', 'Tektronix_AWG5014C.yaml@sim')\n",
    "    with suppress(KeyError):\n",
    "        awg_sim = Instrument.find_instrument('awg_sim')\n",
    "        awg_sim.close()\n",
    "    awg = Tektronix_AWG5014('awg_sim',\n",
    "                            address='GPIB0::1::65535::INSTR',\n",
    "                            timeout=1,\n",
    "                            terminator='\\n',\n",
    "                            visalib=visalib)"
   ]
  },
  {
   "cell_type": "code",
   "execution_count": 27,
   "metadata": {},
   "outputs": [],
   "source": [
    "import numpy as np\n",
    "from broadbean import Segment, SegmentGroup, Element, Sequence\n",
    "# atoms here are basic functions that create segments\n",
    "from broadbean.atoms import sine, ramp, flat, zero, marker_on, marker_off\n",
    "from broadbean.plotting import plotter\n",
    "\n",
    "def send_and_plot(forged_sequence, SR):\n",
    "    if real_instrument_present:\n",
    "        awg.make_send_and_load_awg_file_from_forged_sequence(forged_sequence)\n",
    "    plotter(forged_sequence, SR=SR)"
   ]
  },
  {
   "cell_type": "markdown",
   "metadata": {},
   "source": [
    "## Hello World\n",
    "Lets upload a simple sine wave."
   ]
  },
  {
   "cell_type": "markdown",
   "metadata": {},
   "source": [
    "and the actual creation is (almost) self explanatory: (Here the two as the dictionary key stands for the channel two of the used AWG. Later we will be using routing i.e. use abstract names for the channels and route them with a map to the physical channels)"
   ]
  },
  {
   "cell_type": "code",
   "execution_count": 28,
   "metadata": {},
   "outputs": [],
   "source": [
    "# here sine is a function that creates an object of type `Segment`\n",
    "seg = sine(duration=1e-3, frequency=1e3)\n",
    "# create an element with a single segment on channel `2`\n",
    "e = Element({2:seg})\n",
    "s = Sequence([e])\n",
    "fs = s.forge(SR=1e6)"
   ]
  },
  {
   "cell_type": "markdown",
   "metadata": {},
   "source": [
    "`fs` is the _forged sequece_ and can be passed to the qcodes driver."
   ]
  },
  {
   "cell_type": "code",
   "execution_count": 29,
   "metadata": {},
   "outputs": [
    {
     "data": {
      "image/png": "[encoded data removed]",
      "text/plain": [
       "<Figure size 432x288 with 2 Axes>"
      ]
     },
     "metadata": {},
     "output_type": "display_data"
    }
   ],
   "source": [
    "send_and_plot(fs, SR=1e6)"
   ]
  },
  {
   "cell_type": "markdown",
   "metadata": {},
   "source": [
    "#### behind the scenes\n",
    "The principle concept is to use standard python containers as much as possible. A Sequence for example, is simply represented by a list of elements `Sequence.elements` (Or possibly a list mixed type with elements and sequences to support subsequences).\n",
    "\n",
    "Elements are mainly represented by a dictionary `Elements.segments` containing its segments indexed by the respective channel ids/channel names. On top of that there is a dictionary (`Element.sequencing`) containing the sequencing information, like how many times the element should be repeated, jump targets, etc. Elements have an addtional `Element.local_context` and can remember their assigned `Element._transformation`,  which will be explained in the sections 'Transformations' and 'Making Parametric Sequences'.\n",
    "\n",
    "The function `sine` is a simple convenience wrapper. The first line of this example could be replaced by:\n",
    "```\n",
    "# instead of: `seg = sine(duration=1e-3, frequency=1e3)` one can use:\n",
    "seg = Segment(function='sine', duration=1e-3, frequency=1e3)\n",
    "```\n",
    "A `Segment` holds a function and its arguments and a method `Segment.forge` that renders the function, using the arguments, into a numpy array. These functions received the name 'atoms' in the previous version of Broadbean, because they form the smallest building block of a sequence.\n",
    "An atom is required to take keyword arguments only, one of which is the numpy array `time`, representing the time axis and to return a numpy array of the rendered function. The used example here is defined in 'atoms.py':\n",
    "```\n",
    "@atom\n",
    "def sine(time, frequency, amplitude=1, phase=0):\n",
    "    return amplitude*np.sin(frequency*2*np.pi*time + phase)\n",
    "```\n",
    "The `@atom` decorator simply wrappes the function such that it returns a `Segment` and can be used as in the example.\n",
    "\n",
    "The idea with the atoms is that there is a uniquely named and version controlled collection, such that an atom name and its parameters will be sufficient meta data to resconstruct the original waveform.\n",
    "\n"
   ]
  },
  {
   "cell_type": "markdown",
   "metadata": {},
   "source": [
    "## Segment Groups\n",
    "If we want to create a segment that is composed by multiple atoms, we need to create a `SegmentGroup`:"
   ]
  },
  {
   "cell_type": "code",
   "execution_count": 30,
   "metadata": {},
   "outputs": [],
   "source": [
    "# create a square pulse\n",
    "seg1 = zero(duration=1e-3)\n",
    "seg2 = flat(duration=1e-3, amplitude=1)\n",
    "seg3 = zero(duration=1e-3)\n",
    "\n",
    "pi_pulse = SegmentGroup(seg1, seg2, seg3,\n",
    "                        duration=3e-3)"
   ]
  },
  {
   "cell_type": "code",
   "execution_count": 31,
   "metadata": {},
   "outputs": [],
   "source": [
    "# create a square pulse\n",
    "seg1 = zero(duration=1e-3)\n",
    "seg2 = flat(duration=1e-3, amplitude=1)\n",
    "seg3 = zero(duration=1e-3)\n",
    "\n",
    "pi_pulse = SegmentGroup(seg1, seg2, seg3,\n",
    "                        duration=3e-3)\n",
    "fs = Sequence([Element({1:pi_pulse})]).forge(SR=1e6)"
   ]
  },
  {
   "cell_type": "code",
   "execution_count": 32,
   "metadata": {},
   "outputs": [
    {
     "data": {
      "image/png": "[encoded data removed]",
      "text/plain": [
       "<Figure size 432x288 with 2 Axes>"
      ]
     },
     "metadata": {},
     "output_type": "display_data"
    }
   ],
   "source": [
    "send_and_plot(fs, SR=1e6)"
   ]
  },
  {
   "cell_type": "markdown",
   "metadata": {},
   "source": [
    "#### behind the scenes\n",
    "The `SegmentGroup` class inherits like the `Segment` class from a common base class `_BaseSegment`. It simply stores a list `SegmentGroup._segments` of segments and upon forging calls the respective forging function and concatenates the resulting array.\n",
    "\n",
    "On top of that it also has, just like the Elements, a memory of a 'transformation' that has been supplied upon construction `SegmentGroup._transformation`."
   ]
  },
  {
   "cell_type": "markdown",
   "metadata": {},
   "source": [
    "## Symbols\n",
    "The most significant improvement is that one can define _symbols_. That means we can define a prototype of/recepie for a sequence and parametrize it. A symbol is nothing but a property that has not been given a concrete numeric value but a placeholder for evaluation at forging time. This is simply realized by passing a `str` as the value of a given property\n",
    "To follow up with the previous example we could specify the amplitude of that pi-pulse:"
   ]
  },
  {
   "cell_type": "code",
   "execution_count": 33,
   "metadata": {},
   "outputs": [],
   "source": [
    "# create a square pulse\n",
    "seg1 = zero(duration=1e-3)\n",
    "seg2 = flat(duration=1e-3, amplitude='pi_amp')\n",
    "seg3 = zero(duration=1e-3)\n",
    "\n",
    "pi_pulse = SegmentGroup(seg1, seg2, seg3,\n",
    "                        duration = 1e3)\n",
    "s = Sequence([Element({2:pi_pulse})])\n",
    "# here the sequence s is a recepy for building a pi-pulse for any amplitude\n",
    "# for getting the actual waveform we need to specify the context and pass it to the forge method\n",
    "context = {'pi_amp': 0.5}\n",
    "fs = s.forge(SR=1e6, context=context)"
   ]
  },
  {
   "cell_type": "code",
   "execution_count": 34,
   "metadata": {},
   "outputs": [
    {
     "data": {
      "image/png": "[encoded data removed]",
      "text/plain": [
       "<Figure size 432x288 with 2 Axes>"
      ]
     },
     "metadata": {},
     "output_type": "display_data"
    }
   ],
   "source": [
    "send_and_plot(fs, SR=1e6)"
   ]
  },
  {
   "cell_type": "markdown",
   "metadata": {},
   "source": [
    "#### behind the scenes\n",
    "So far the usage of the symbols is not quite clear. We could also imagine to just access the value that we want to change by identifying the element with a name or id and the segment via the channel like so:\n",
    "```\n",
    "# sequence(List)->element(Dict)->SegementGroup(List)->segments(Member)->value\n",
    "s.elements[0].segments[2]._segments[1]._properties['amplitude'] = 0.5\n",
    "```\n",
    "But as soon as a vaule gets used in multiple places, one would have to create an additional mapping of where a value needs to be changed. With the symbols we only need to take care of giving unique names and their occurences will be found for us.\n",
    "\n",
    "The leading priciple is 'late evaluation'. This enables maximum flexibility at the cost of late failure. This means that symbols only become replaced by their values on forging time where errors may occur due to a maldefined sequence. However, Segements and Elements can be forged individually by `Segment.forge` and `Element.forge` when an appropiate context and sample rate is supplied."
   ]
  },
  {
   "cell_type": "markdown",
   "metadata": {},
   "source": [
    "## Transformations\n",
    "In order to make the feature of symbols really useful we need to take into account dependencies of symbols. So for example if we want to tune the pulse duration and keep the overall duration of the element constant.\n",
    "For this we can introduce a transformation:"
   ]
  },
  {
   "cell_type": "code",
   "execution_count": 35,
   "metadata": {},
   "outputs": [],
   "source": [
    "seg1 = zero(duration=1e-1)\n",
    "seg2 = flat(duration='pulse_duration', amplitude=1)\n",
    "seg3 = zero(duration='flex_time')\n",
    "\n",
    "def keep_total_duration_constant(context):\n",
    "    context['flex_time'] = context['total_duration'] - context['pulse_duration'] - 1e-1\n",
    "                                 \n",
    "\n",
    "pi_pulse = SegmentGroup(seg1, seg2, seg3,\n",
    "                        duration = 'total_duration',\n",
    "                        transformation=keep_total_duration_constant)\n",
    "s = Sequence([Element({1:pi_pulse})])\n",
    "# here the sequence s is a recepy for building a pi-pulse for any amplitude\n",
    "# for getting the actual waveform we need to specify the context and pass it to the forge method\n",
    "context = {'pulse_duration': 0.5e-1,\n",
    "           'total_duration': 3e-1}\n",
    "fs = s.forge(SR=1e6, context=context)"
   ]
  },
  {
   "cell_type": "code",
   "execution_count": 36,
   "metadata": {},
   "outputs": [
    {
     "data": {
      "image/png": "[encoded data removed]",
      "text/plain": [
       "<Figure size 432x288 with 2 Axes>"
      ]
     },
     "metadata": {},
     "output_type": "display_data"
    }
   ],
   "source": [
    "send_and_plot(fs, SR=1e6)"
   ]
  },
  {
   "cell_type": "markdown",
   "metadata": {},
   "source": [
    "#### behind the scenes\n",
    "The presented implementation of transformations aims at maximum flexibility at the cost of safety and ease of use. It is meant to be an open interface for higher level abstraction that make their use more convenient. Ideally there will be only transformations that, like the atoms, come from a fixed collection and can thereby be simply included in the metadata.\n",
    "\n",
    "One example of this would be a linear solver: Here we define a bunch of symbols and their linear dependence in the form of their respective coefficients (clear metadata). The solver needs to know the required symbols (yet to be implemented) and can calculate them from the given context via standard linear algebra methods.\n",
    "\n",
    "If you can come up with a real world example that does require non-linear coefficients, let us know ;-)"
   ]
  },
  {
   "cell_type": "markdown",
   "metadata": {},
   "source": [
    "## Making Parametric Sequences\n",
    "The next logical step is to harness the power of changing symbol values of an element to create a sequence: Here a pulse sequence of centered pulses of increasing length is created."
   ]
  },
  {
   "cell_type": "code",
   "execution_count": 37,
   "metadata": {},
   "outputs": [],
   "source": [
    "from broadbean import in_context\n",
    "\n",
    "seg1 = zero(duration='flex_time')\n",
    "seg2 = flat(duration='pulse_duration', amplitude=1)\n",
    "seg3 = zero(duration='flex_time')\n",
    "\n",
    "# make it centered this time\n",
    "def keep_total_duration_constant(context):\n",
    "    context['flex_time'] = 0.5*(context['total_duration'] - context['pulse_duration'])\n",
    "                                 \n",
    "\n",
    "pi_pulse = SegmentGroup(seg1, seg2, seg3,\n",
    "                        duration = 'total_duration',\n",
    "                        transformation=keep_total_duration_constant)\n",
    "\n",
    "e = Element({1:pi_pulse})\n",
    "# `in_context` is a function that simply copies a Segement/Element and assigns a `local_context`\n",
    "s = Sequence([in_context(e, pulse_duration=t) for t in np.linspace(0.1e-3,1e-3,5)])\n",
    "\n",
    "# here the sequence s is a recepy for building a pi-pulse for any amplitude\n",
    "# for getting the actual waveform we need to specify the context and pass it to the forge method\n",
    "context = {'total_duration': 3e-3}\n",
    "fs = s.forge(SR=1e6, context=context)"
   ]
  },
  {
   "cell_type": "code",
   "execution_count": 38,
   "metadata": {},
   "outputs": [
    {
     "data": {
      "image/png": "[encoded data removed]",
      "text/plain": [
       "<Figure size 432x288 with 6 Axes>"
      ]
     },
     "metadata": {},
     "output_type": "display_data"
    }
   ],
   "source": [
    "send_and_plot(fs, SR=1e6)"
   ]
  },
  {
   "cell_type": "markdown",
   "metadata": {},
   "source": [
    "## Adding markers\n",
    "Markers in this version are treated identical to any other typpe of trace. There are no checks yet if the marker trace is really only 1 or 0."
   ]
  },
  {
   "cell_type": "code",
   "execution_count": 39,
   "metadata": {},
   "outputs": [],
   "source": [
    "seg1 = sine(duration='excite_time', phase=np.pi/2, amplitude='amp', frequency=1e3)\n",
    "# default arguments can be used\n",
    "seg2 = sine(duration='readout_time', frequency=1e3)\n",
    "\n",
    "m1 = marker_on(duration='excite_time')\n",
    "m2 = marker_off(duration='readout_time')\n",
    "\n",
    "gs = SegmentGroup(seg1, seg2,\n",
    "                  duration='total_duration')\n",
    "\n",
    "ms = SegmentGroup(m1, m2,\n",
    "                  duration='total_duration')\n",
    "\n",
    "# sequencing information is simply stored as a dict in the elements\n",
    "e = Element({2:gs,\n",
    "             '1M1':ms},\n",
    "            {'nr_rep':2})\n",
    "\n",
    "s = Sequence([e, e])\n",
    "times = {'readout_time': 1e-3,\n",
    "         'excite_time': 2e-3,\n",
    "        'amp':1}\n",
    "fs = s.forge(SR=1e6, context=times)"
   ]
  },
  {
   "cell_type": "code",
   "execution_count": 40,
   "metadata": {},
   "outputs": [
    {
     "data": {
      "image/png": "[encoded data removed]",
      "text/plain": [
       "<Figure size 432x288 with 6 Axes>"
      ]
     },
     "metadata": {},
     "output_type": "display_data"
    }
   ],
   "source": [
    "send_and_plot(fs, SR=1e6)"
   ]
  },
  {
   "cell_type": "markdown",
   "metadata": {},
   "source": [
    "## Routing Signals\n",
    "The routing module enables to define sequences for abstract channel names and then use a routing dictionary to map those channels to real instrument channels. This seperates the logic of the sequence from the actual wiring. Beyond that one can define sequences that involve multiple instruments.\n",
    "\n",
    "The following example outputs the marker on a different instrument."
   ]
  },
  {
   "cell_type": "code",
   "execution_count": 41,
   "metadata": {
    "scrolled": true
   },
   "outputs": [],
   "source": [
    "seg1 = sine(duration='excite_time', phase=np.pi/2, amplitude='amp', frequency=1e3)\n",
    "# default arguments can be used\n",
    "seg2 = sine(duration='readout_time', frequency=1e3)\n",
    "\n",
    "m1 = marker_on(duration='excite_time')\n",
    "m2 = marker_off(duration='readout_time')\n",
    "\n",
    "gs = SegmentGroup(seg1, seg2,\n",
    "                  duration='total_duration')\n",
    "\n",
    "ms = SegmentGroup(m1, m2,\n",
    "                  duration='total_duration')\n",
    "\n",
    "e = Element({'MyOutputChannel':gs,\n",
    "             'MyMarkerChannel':ms},\n",
    "            {'nr_rep':2})\n",
    "\n",
    "s = Sequence([e, e])\n",
    "times = {'readout_time': 1e-3,\n",
    "         'excite_time': 2e-3,\n",
    "         'amp': 1}\n",
    "\n",
    "routing_dict = {'MyOutputChannel': (awg.name, 1),\n",
    "                'MyMarkerChannel': ('AnotherInstrument', '1M1')}\n",
    "\n",
    "fs1 = s.forge(SR=1e6,\n",
    "              context=times,\n",
    "              routes=routing_dict,\n",
    "              instrument_name=awg.name)\n",
    "fs2 = s.forge(SR=1e6,\n",
    "              context=times,\n",
    "              routes=routing_dict,\n",
    "              instrument_name='AnotherInstrument')\n",
    "\n",
    "\n",
    "# do the same thing for the other instrument\n",
    "# fs_other = route(fs, routing_dict, ohter_instrument)"
   ]
  },
  {
   "cell_type": "code",
   "execution_count": 42,
   "metadata": {
    "scrolled": false
   },
   "outputs": [
    {
     "data": {
      "image/png": "[encoded data removed]",
      "text/plain": [
       "<Figure size 432x288 with 3 Axes>"
      ]
     },
     "metadata": {},
     "output_type": "display_data"
    },
    {
     "data": {
      "image/png": "[encoded data removed]",
      "text/plain": [
       "<Figure size 432x288 with 3 Axes>"
      ]
     },
     "metadata": {},
     "output_type": "display_data"
    }
   ],
   "source": [
    "send_and_plot(fs1, SR=1e6)\n",
    "send_and_plot(fs2, SR=1e6)"
   ]
  },
  {
   "cell_type": "markdown",
   "metadata": {},
   "source": [
    "## Making Parametric Sequences with transformation on element level\n",
    "So far we have applied a simple transformation that operates purely on SegmentGroup level. Taking this to the next step includes transformations that act on Element level.\n",
    "\n",
    "Therefore we consider an example where we add a marker to the flex element with some delay"
   ]
  },
  {
   "cell_type": "code",
   "execution_count": 43,
   "metadata": {},
   "outputs": [],
   "source": [
    "from broadbean import in_context\n",
    "\n",
    "seg1 = zero(duration='flex_time')\n",
    "seg2 = flat(duration='pulse_duration', amplitude=1)\n",
    "seg3 = zero(duration='flex_time')\n",
    "\n",
    "pi_pulse = SegmentGroup(seg1, seg2, seg3,\n",
    "                        duration = 'total_duration')\n",
    "\n",
    "m1 = marker_off(duration='pre_marker_time')\n",
    "m2 = marker_on(duration='marker_time')\n",
    "m3 = marker_off(duration='post_marker_time')\n",
    "\n",
    "markers = SegmentGroup(m1, m2, m3,\n",
    "                        duration = 'total_duration')\n",
    "\n",
    "def mytransformation(context):\n",
    "    context['flex_time'] = 0.5*(context['total_duration'] - context['pulse_duration'])\n",
    "    context['pre_marker_time'] = context['flex_time'] + context['marker_delay']\n",
    "    context['post_marker_time'] = context['total_duration'] - context['marker_time'] - context['pre_marker_time']\n",
    "                                 \n",
    "\n",
    "e = Element({1:pi_pulse,\n",
    "            '1M1':markers},\n",
    "            transformation=mytransformation)\n",
    "s = Sequence([in_context(e, pulse_duration=t) for t in np.linspace(0.5e-3,2e-3,5)])\n",
    "\n",
    "# here the sequence s is a recepy for building a pi-pulse for any amplitude\n",
    "# for getting the actual waveform we need to specify the context and pass it to the forge method\n",
    "context = {'total_duration': 3e-3,\n",
    "          'marker_time': 2e-4,\n",
    "          'marker_delay':0e-4}\n",
    "fs = s.forge(SR=1e6, context=context)"
   ]
  },
  {
   "cell_type": "markdown",
   "metadata": {},
   "source": [
    "It looks like it didn't work correctly but the varying marker delay is an optical illusion"
   ]
  },
  {
   "cell_type": "code",
   "execution_count": 44,
   "metadata": {},
   "outputs": [
    {
     "data": {
      "image/png": "[encoded data removed]",
      "text/plain": [
       "<Figure size 432x288 with 12 Axes>"
      ]
     },
     "metadata": {},
     "output_type": "display_data"
    }
   ],
   "source": [
    "send_and_plot(fs, SR=1e6)"
   ]
  },
  {
   "cell_type": "markdown",
   "metadata": {},
   "source": [
    "## Serialization\n",
    "It *should* be possible to serialze the waveforms. This is certainly achievable at the level of the sequence object, when restricting oneself to the used of a defined set of _atoms_. \n",
    "\n",
    "It is desirable to have serialization at the highest possible level, i.e. that not the whole forged sequence gets saved but rather the recepie to create it.\n",
    "\n",
    "One could imagine a simple DSL like yaml that would look like this: (this is not finished yet..., the following format can already be read by the broadbean.laoder module)"
   ]
  },
  {
   "cell_type": "code",
   "execution_count": null,
   "metadata": {},
   "outputs": [],
   "source": [
    "rabi:\n",
    "    template_element:\n",
    "        duration: total_duration\n",
    "        segments:\n",
    "            main_channel:\n",
    "                - GroupSegment:  # driving\n",
    "                    duration: driving_stage_duration\n",
    "                    segmetns:\n",
    "                        - sine:\n",
    "                            duration: ite_time\n",
    "                            frequency: blah\n",
    "                - GroupSegment:  # readout\n",
    "                    duration: readout_stage_duration\n",
    "                    segmetns:\n",
    "                        - zero: {duration: readout_delay}\n",
    "                        - flat: {duration: readout_duration, value=readout_amplitude}\n",
    "                        - zero: {duration: post_readout_duration}\n",
    "            alazar_marker:\n",
    "                - off: {duration=driving_stage_duration}\n",
    "                - marker_pulse:\n",
    "                    duration: readout_stage_duration\n",
    "                    delay: pre_marker_duration\n",
    "                    marker_duration: readout_marker_duration\n",
    "        transformation:\n",
    "            - post_readout_duration:\n",
    "                - [1, readout_stage_duration]\n",
    "                - [-1, readout_delay]\n",
    "                - [-1, readout_duration]\n",
    "            - pre_marker_duration:\n",
    "                - [1, readout_delay]\n",
    "                - [-1, readout_marker_delay]\n",
    "        local_context:\n",
    "        sequencing:\n",
    "    initial_element:\n"
   ]
  },
  {
   "cell_type": "markdown",
   "metadata": {},
   "source": [
    "## Forge as meta data only\n",
    "For the time being the sequences can only be stored as meta data in a clunky way. Instead of rendering the segments out in the form of an np.ndarray, the atom name and the arguments are stored. This requires only a finite amount of memory and enables to reconstruct any sequence. (The reconstruction function does not exist yet)"
   ]
  },
  {
   "cell_type": "code",
   "execution_count": 47,
   "metadata": {},
   "outputs": [
    {
     "data": {
      "text/plain": [
       "[{'data': {2: ({'atom': 'sine',\n",
       "     'args': {'phase': 1.5707963267948966,\n",
       "      'amplitude': 1,\n",
       "      'frequency': 1000.0,\n",
       "      'duration': 0.002}},\n",
       "    {'atom': 'sine', 'args': {'frequency': 1000.0, 'duration': 0.001}}),\n",
       "   '1M1': ({'atom': 'marker_on', 'args': {'duration': 0.002}},\n",
       "    {'atom': 'marker_off', 'args': {'duration': 0.001}})},\n",
       "  'sequencing': {'nr_rep': 2}},\n",
       " {'data': {2: ({'atom': 'sine',\n",
       "     'args': {'phase': 1.5707963267948966,\n",
       "      'amplitude': 1,\n",
       "      'frequency': 1000.0,\n",
       "      'duration': 0.002}},\n",
       "    {'atom': 'sine', 'args': {'frequency': 1000.0, 'duration': 0.001}}),\n",
       "   '1M1': ({'atom': 'marker_on', 'args': {'duration': 0.002}},\n",
       "    {'atom': 'marker_off', 'args': {'duration': 0.001}})},\n",
       "  'sequencing': {'nr_rep': 2}}]"
      ]
     },
     "execution_count": 47,
     "metadata": {},
     "output_type": "execute_result"
    }
   ],
   "source": [
    "seg1 = sine(duration='excite_time', phase=np.pi/2, amplitude='amp', frequency=1e3)\n",
    "seg2 = sine(duration='readout_time', frequency=1e3)\n",
    "m1 = marker_on(duration='excite_time')\n",
    "m2 = marker_off(duration='readout_time')\n",
    "gs = SegmentGroup(seg1, seg2,\n",
    "                  duration='total_duration')\n",
    "ms = SegmentGroup(m1, m2,\n",
    "                  duration='total_duration')\n",
    "e = Element({2:gs,\n",
    "             '1M1':ms},\n",
    "            {'nr_rep':2})\n",
    "\n",
    "s = Sequence([e, e])\n",
    "times = {'readout_time': 1e-3,\n",
    "         'excite_time': 2e-3,\n",
    "        'amp':1}\n",
    "fs = s.forge(SR=1e6, context=times, meta_data_only=True)\n",
    "fs"
   ]
  },
  {
   "cell_type": "markdown",
   "metadata": {},
   "source": [
    "## Scoping\n",
    "Symbol names do not need to be unique. The scoping works from the bottom up:\n",
    "```\n",
    "actual_values->transformation->local_context->context from next higher level\n",
    "```\n",
    "Lets see how this works with an example:"
   ]
  },
  {
   "cell_type": "code",
   "execution_count": 48,
   "metadata": {},
   "outputs": [
    {
     "data": {
      "image/png": "[encoded data removed]",
      "text/plain": [
       "<Figure size 432x288 with 2 Axes>"
      ]
     },
     "metadata": {},
     "output_type": "display_data"
    }
   ],
   "source": [
    "from broadbean.plotting import plotter\n",
    "\n",
    "seg1 = zero(duration='flex_time')\n",
    "seg2 = flat(duration='pulse_duration', amplitude='amplitude')\n",
    "seg3 = zero(duration='flex_time')\n",
    "\n",
    "pi_pulse = SegmentGroup(seg1, seg2, seg3,\n",
    "                        duration = 'total_duration')\n",
    "\n",
    "\n",
    "def mytransformation(context):\n",
    "    context['flex_time'] = 0.5*(context['total_duration'] - context['pulse_duration'])\n",
    "                                     \n",
    "\n",
    "e = Element({1:pi_pulse},\n",
    "            local_context={'flex_time': 0,\n",
    "                           'amplitude': 0.5,\n",
    "                           'pulse_duration': 1e-3},\n",
    "            transformation=mytransformation)\n",
    "\n",
    "context = {'total_duration': 3e-3,\n",
    "           'amplitude': 1,\n",
    "           'flex_time': 0}\n",
    "plotter(e, SR=1e6, context=context)"
   ]
  },
  {
   "cell_type": "markdown",
   "metadata": {},
   "source": [
    "here one can see that the resulting plot has:\n",
    "- the amplitude as defined in the local context not as in the global context\n",
    "- the duration as defined in the local context.\n",
    "- the flex time as resulting of the transformation, not as defined in the local context\n",
    "- the total duration as defined in the context\n",
    "\n",
    "This means symbols can be reused and elements etc can be copied:"
   ]
  },
  {
   "cell_type": "code",
   "execution_count": 49,
   "metadata": {},
   "outputs": [
    {
     "data": {
      "image/png": "[encoded data removed]",
      "text/plain": [
       "<Figure size 432x288 with 3 Axes>"
      ]
     },
     "metadata": {},
     "output_type": "display_data"
    }
   ],
   "source": [
    "from broadbean.plotting import plotter\n",
    "from copy import copy\n",
    "\n",
    "seg1 = zero(duration='flex_time')\n",
    "seg2 = flat(duration='pulse_duration', amplitude='amplitude')\n",
    "seg3 = zero(duration='flex_time')\n",
    "\n",
    "pi_pulse = SegmentGroup(seg1, seg2, seg3,\n",
    "                        duration = 'total_duration')\n",
    "\n",
    "\n",
    "def mytransformation(context):\n",
    "    context['flex_time'] = 0.5*(context['total_duration'] - context['pulse_duration'])\n",
    "                                     \n",
    "\n",
    "e = Element({1:pi_pulse},\n",
    "            local_context={'flex_time': 0,\n",
    "                           'amplitude': 0.5,\n",
    "                           'pulse_duration': 1e-3},\n",
    "            transformation=mytransformation)\n",
    "e2 = copy(e)\n",
    "e2.local_context['pulse_duration'] = 2.7e-3\n",
    "e2.local_context.pop('amplitude')\n",
    "\n",
    "\n",
    "context = {'total_duration': 3e-3,\n",
    "           'amplitude': 1,\n",
    "           'flex_time': 0}\n",
    "plotter(Sequence([e, e2]), SR=1e6, context=context)"
   ]
  },
  {
   "cell_type": "markdown",
   "metadata": {},
   "source": [
    "Here the copy can have a changed new local context and the symbol 'flex_time' is only defined in the scope of each element."
   ]
  },
  {
   "cell_type": "markdown",
   "metadata": {},
   "source": [
    "## Future Features\n",
    "\n",
    "\n",
    "This library is still in a beta stage and has many bugs and no validation. Things that are going to change soon are:\n",
    "- make all objects really stateful (e.g.a copy method for SegmentGroup)\n",
    "- expose some of the _members so that the objects can be changed (e.g SegmentGroup.segments)\n",
    "- add local context to GroupSegement\n",
    "- implement a proper serialization\n",
    "- provide support for other tektronix awgs\n",
    "- full support for subsequences"
   ]
  },
  {
   "cell_type": "code",
   "execution_count": null,
   "metadata": {},
   "outputs": [],
   "source": []
  }
 ],
 "metadata": {
  "kernelspec": {
   "display_name": "Python 3",
   "language": "python",
   "name": "python3"
  },
  "language_info": {
   "codemirror_mode": {
    "name": "ipython",
    "version": 3
   },
   "file_extension": ".py",
   "mimetype": "text/x-python",
   "name": "python",
   "nbconvert_exporter": "python",
   "pygments_lexer": "ipython3",
   "version": "3.6.5"
  }
 },
 "nbformat": 4,
 "nbformat_minor": 2
}
